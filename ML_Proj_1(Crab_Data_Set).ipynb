{
  "nbformat": 4,
  "nbformat_minor": 0,
  "metadata": {
    "colab": {
      "provenance": [],
      "authorship_tag": "ABX9TyMmdeXMH8shWn6az+rWXFW4",
      "include_colab_link": true
    },
    "kernelspec": {
      "name": "python3",
      "display_name": "Python 3"
    },
    "language_info": {
      "name": "python"
    }
  },
  "cells": [
    {
      "cell_type": "markdown",
      "metadata": {
        "id": "view-in-github",
        "colab_type": "text"
      },
      "source": [
        "<a href=\"https://colab.research.google.com/github/aliiamrr/Crab-Age-Prediction-ML/blob/main/ML_Proj_1(Crab_Data_Set).ipynb\" target=\"_parent\"><img src=\"https://colab.research.google.com/assets/colab-badge.svg\" alt=\"Open In Colab\"/></a>"
      ]
    },
    {
      "cell_type": "code",
      "execution_count": null,
      "metadata": {
        "id": "sS6dtDC7HB1R"
      },
      "outputs": [],
      "source": [
        "#DATA VISUALIZATION AND CORRELATION ANALYSIS"
      ]
    },
    {
      "cell_type": "code",
      "source": [
        "#IMPORTS\n",
        "import pandas as pd\n",
        "import numpy as np\n",
        "from sklearn.preprocessing import StandardScaler\n",
        "from sklearn.decomposition import PCA\n",
        "import matplotlib.pyplot as plt\n",
        "import seaborn as sns\n",
        "from sklearn.linear_model import LinearRegression\n",
        "from sklearn.metrics import mean_absolute_error\n",
        "from sklearn.model_selection import train_test_split\n",
        "from sklearn.linear_model import Ridge\n",
        "from sklearn.linear_model import Lasso\n",
        "from sklearn.linear_model import ElasticNet\n",
        "from sklearn.model_selection import GridSearchCV\n",
        "from sklearn.preprocessing import PolynomialFeatures\n",
        "from sklearn.pipeline import make_pipeline\n",
        "import scipy.stats as stats\n",
        "import matplotlib.pyplot as plt\n",
        "import seaborn as sns"
      ],
      "metadata": {
        "id": "Xbbqu5xVHHfn"
      },
      "execution_count": 1,
      "outputs": []
    },
    {
      "cell_type": "code",
      "source": [
        "#READ THE DATASET\n",
        "df = pd.read_csv('train.csv')"
      ],
      "metadata": {
        "id": "VUG4OnZQJ4FE"
      },
      "execution_count": 3,
      "outputs": []
    },
    {
      "cell_type": "code",
      "source": [
        "#BASIC EXPLORATION\n",
        "print(df.head(),'\\n')\n",
        "print(df.info(),'\\n')\n",
        "print(df.describe())"
      ],
      "metadata": {
        "collapsed": true,
        "id": "CBQnR6DbKAsD",
        "colab": {
          "base_uri": "https://localhost:8080/"
        },
        "outputId": "c67776bb-7355-432e-cbf8-540728eaa315"
      },
      "execution_count": null,
      "outputs": [
        {
          "output_type": "stream",
          "name": "stdout",
          "text": [
            "   id  Length  Diameter  Height     Weight  Shucked Weight  Viscera Weight  \\\n",
            "0   0  1.2875    1.0750  0.3625  19.433582        8.306404        4.309124   \n",
            "1   1  1.5500    1.2125  0.4250  33.877653       13.706983        6.676307   \n",
            "2   2  1.3875    1.0625  0.3500  23.388337        9.993199        5.556502   \n",
            "3   3  1.4375    1.1250  0.4375  27.499015       11.254751        5.329706   \n",
            "4   4  1.5250    1.2250  0.4250  32.460178       13.919605        7.569317   \n",
            "\n",
            "   Shell Weight   Age  Sex_I  Sex_M  \n",
            "0      6.662133   9.0   True  False  \n",
            "1     10.064072  14.0  False  False  \n",
            "2      5.811648  11.0  False   True  \n",
            "3      7.937860  22.0  False  False  \n",
            "4      8.788345  10.0  False   True   \n",
            "\n",
            "<class 'pandas.core.frame.DataFrame'>\n",
            "RangeIndex: 15000 entries, 0 to 14999\n",
            "Data columns (total 11 columns):\n",
            " #   Column          Non-Null Count  Dtype  \n",
            "---  ------          --------------  -----  \n",
            " 0   id              15000 non-null  int64  \n",
            " 1   Length          15000 non-null  float64\n",
            " 2   Diameter        15000 non-null  float64\n",
            " 3   Height          15000 non-null  float64\n",
            " 4   Weight          15000 non-null  float64\n",
            " 5   Shucked Weight  15000 non-null  float64\n",
            " 6   Viscera Weight  15000 non-null  float64\n",
            " 7   Shell Weight    15000 non-null  float64\n",
            " 8   Age             15000 non-null  float64\n",
            " 9   Sex_I           15000 non-null  bool   \n",
            " 10  Sex_M           15000 non-null  bool   \n",
            "dtypes: bool(2), float64(8), int64(1)\n",
            "memory usage: 1.1 MB\n",
            "None \n",
            "\n",
            "                 id        Length      Diameter        Height        Weight  \\\n",
            "count  15000.000000  15000.000000  15000.000000  15000.000000  15000.000000   \n",
            "mean    7499.500000      1.311821      1.020134      0.346236     23.056144   \n",
            "std     4330.271354      0.287776      0.237408      0.090561     12.519632   \n",
            "min        0.000000      0.287500      0.000000      0.000000      0.297670   \n",
            "25%     3749.750000      1.150000      0.887500      0.287500     13.139993   \n",
            "50%     7499.500000      1.375000      1.075000      0.362500     23.437949   \n",
            "75%    11249.250000      1.525000      1.200000      0.412500     31.992411   \n",
            "max    14999.000000      1.987500      1.712500      0.700000     75.324622   \n",
            "\n",
            "       Shucked Weight  Viscera Weight  Shell Weight           Age  \n",
            "count    15000.000000    15000.000000  15000.000000  15000.000000  \n",
            "mean         9.955010        4.978165      6.617204      9.951667  \n",
            "std          5.583084        2.768335      3.532174      3.226643  \n",
            "min          0.127573        0.070874      0.085048      1.000000  \n",
            "25%          5.669900        2.792426      3.827183      8.000000  \n",
            "50%          9.823102        4.861939      6.803880     10.000000  \n",
            "75%         13.891255        6.917278      9.029316     11.000000  \n",
            "max         42.184056       17.009700     25.089308     29.000000  \n"
          ]
        }
      ]
    },
    {
      "cell_type": "code",
      "source": [
        "#CHECK AND HANDLE DUPLICATES\n",
        "'''\n",
        "duplicates = df.duplicated().sum()\n",
        "print(f\"Number of duplicate rows: {duplicates}\")\n",
        "'''"
      ],
      "metadata": {
        "id": "_FW2_D1AS7Bi"
      },
      "execution_count": null,
      "outputs": []
    },
    {
      "cell_type": "code",
      "source": [
        "#CHECK AND HANDLE MISSING VALUES\n",
        "'''\n",
        "missing_values = df.isnull().sum()\n",
        "print(f\"Missing values:\\n{missing_values}\")\n",
        "'''"
      ],
      "metadata": {
        "id": "oEnwbnJsTO0m"
      },
      "execution_count": null,
      "outputs": []
    },
    {
      "cell_type": "code",
      "source": [
        "#CONVERT SEX TO A NUMERICAL FEAUTURE USING ONE HOT ENCODING\n",
        "df = pd.get_dummies(df, columns=['Sex'], drop_first=True)"
      ],
      "metadata": {
        "id": "ktTEFLdKLXow"
      },
      "execution_count": 4,
      "outputs": []
    },
    {
      "cell_type": "code",
      "source": [
        "#CALCULATE AND DISPLAY CORRELATION MATRIX\n",
        "correlation_matrix = df.corr()\n",
        "print(correlation_matrix)"
      ],
      "metadata": {
        "id": "nhAJqutdOJXG",
        "colab": {
          "base_uri": "https://localhost:8080/"
        },
        "outputId": "f7eecfd7-8030-4f18-ee2e-335d792a0c0e"
      },
      "execution_count": 6,
      "outputs": [
        {
          "output_type": "stream",
          "name": "stdout",
          "text": [
            "                      id    Length  Diameter    Height    Weight  \\\n",
            "id              1.000000 -0.000549 -0.000297 -0.001960 -0.000134   \n",
            "Length         -0.000549  1.000000  0.991766  0.934141  0.938050   \n",
            "Diameter       -0.000297  0.991766  1.000000  0.936500  0.939962   \n",
            "Height         -0.001960  0.934141  0.936500  1.000000  0.915395   \n",
            "Weight         -0.000134  0.938050  0.939962  0.915395  1.000000   \n",
            "Shucked Weight -0.000914  0.913607  0.912383  0.871371  0.970024   \n",
            "Viscera Weight  0.002226  0.920136  0.920553  0.896615  0.972999   \n",
            "Shell Weight   -0.001184  0.920366  0.925611  0.919334  0.967680   \n",
            "Age            -0.009181  0.619932  0.627211  0.663039  0.610977   \n",
            "Sex_I          -0.003658 -0.672572 -0.678027 -0.667699 -0.663938   \n",
            "Sex_M          -0.000799  0.325454  0.326021  0.318029  0.314957   \n",
            "\n",
            "                Shucked Weight  Viscera Weight  Shell Weight       Age  \\\n",
            "id                   -0.000914        0.002226     -0.001184 -0.009181   \n",
            "Length                0.913607        0.920136      0.920366  0.619932   \n",
            "Diameter              0.912383        0.920553      0.925611  0.627211   \n",
            "Height                0.871371        0.896615      0.919334  0.663039   \n",
            "Weight                0.970024        0.972999      0.967680  0.610977   \n",
            "Shucked Weight        1.000000        0.945021      0.909046  0.498851   \n",
            "Viscera Weight        0.945021        1.000000      0.937243  0.578482   \n",
            "Shell Weight          0.909046        0.937243      1.000000  0.678453   \n",
            "Age                   0.498851        0.578482      0.678453  1.000000   \n",
            "Sex_I                -0.628988       -0.657353     -0.662374 -0.534430   \n",
            "Sex_M                 0.307693        0.305753      0.307820  0.236478   \n",
            "\n",
            "                   Sex_I     Sex_M  \n",
            "id             -0.003658 -0.000799  \n",
            "Length         -0.672572  0.325454  \n",
            "Diameter       -0.678027  0.326021  \n",
            "Height         -0.667699  0.318029  \n",
            "Weight         -0.663938  0.314957  \n",
            "Shucked Weight -0.628988  0.307693  \n",
            "Viscera Weight -0.657353  0.305753  \n",
            "Shell Weight   -0.662374  0.307820  \n",
            "Age            -0.534430  0.236478  \n",
            "Sex_I           1.000000 -0.538199  \n",
            "Sex_M          -0.538199  1.000000  \n"
          ]
        }
      ]
    },
    {
      "cell_type": "code",
      "source": [
        "#DETECTING OUTLIERS AND HANDLING THEM\n",
        "\n",
        "#FUNCTION FOR OUTLIERS\n",
        "def detect_outliers(data, threshold=3):\n",
        "    z_scores = (data - data.mean()) / data.std()\n",
        "    outliers = data[np.abs(z_scores) > threshold]\n",
        "    return outliers\n",
        "\n",
        "numerical_features = df.drop(columns=['id']).select_dtypes(include=['float64', 'int64']).columns.tolist()\n",
        "\n",
        "for feature in numerical_features:\n",
        "    outliers = detect_outliers(df[feature], threshold=3)\n",
        "    print(f\"Outliers in {feature}: {outliers}\")"
      ],
      "metadata": {
        "id": "TE8N-10SXpl_"
      },
      "execution_count": null,
      "outputs": []
    },
    {
      "cell_type": "code",
      "source": [
        "\n",
        "\n",
        "for feature in numerical_features:\n",
        "    stats.probplot(df[feature], plot=plt)\n",
        "    plt.title(f'Q-Q Plot for {feature}')\n",
        "    plt.show()\n",
        "\n",
        "# Shapiro-Wilk Test\n",
        "shapiro_test_stat, shapiro_p_value = stats.shapiro(df[numerical_features])\n",
        "print(f\"Shapiro-Wilk Test: Statistic={shapiro_test_stat}, p-value={shapiro_p_value}\")\n",
        "\n",
        "# Kolmogorov-Smirnov Test\n",
        "ks_test_stat, ks_p_value = stats.kstest(df[numerical_features], 'norm')\n",
        "print(f\"Kolmogorov-Smirnov Test: Statistic={ks_test_stat}, p-value={ks_p_value}\")"
      ],
      "metadata": {
        "id": "1ny_FQUXbDNl"
      },
      "execution_count": null,
      "outputs": []
    },
    {
      "cell_type": "markdown",
      "source": [
        "Method for Feature Engineering\n"
      ],
      "metadata": {
        "id": "3gDDg3icnr2_"
      }
    },
    {
      "cell_type": "code",
      "source": [
        "def engineer_features(df):\n",
        "\n",
        "\n",
        "    new_df = pd.DataFrame()\n",
        "\n",
        "    # Create ratio features\n",
        "    new_df['Shell_Weight_Ratio'] = df['Shell Weight'] / df['Weight']\n",
        "    new_df['Shucked_Weight_Ratio'] = df['Shucked Weight'] / df['Weight']\n",
        "    new_df['Viscera_Weight_Ratio'] = df['Viscera Weight'] / df['Weight']\n",
        "\n",
        "    # Create size-related features (assuming you have functions to calculate volume and surface area)\n",
        "    new_df['Volume'] = calculate_volume(df['Length'], df['Diameter'], df['Height'])\n",
        "    new_df['Surface_Area'] = calculate_surface_area(df['Length'], df['Diameter'], df['Height'])\n",
        "\n",
        "    # Consider creating interaction terms if needed\n",
        "    # new_df['Length_Diameter_Interaction'] = df['Length'] * df['Diameter']\n",
        "    # new_df['Height_Weight_Interaction'] = df['Height'] * df['Weight']\n",
        "\n",
        "    return new_df"
      ],
      "metadata": {
        "id": "r9OYRJF3nn5z"
      },
      "execution_count": null,
      "outputs": []
    },
    {
      "cell_type": "code",
      "source": [
        "#STANDARDIZING NUMERICAL FEATURES\n",
        "scaler = StandardScaler()\n",
        "numerical_features = df.drop(columns=['id','Age']).select_dtypes(include=['float64', 'int64']).columns.tolist()\n",
        "df[numerical_features] = scaler.fit_transform(df[numerical_features])"
      ],
      "metadata": {
        "id": "_CbwA4UuUXn-"
      },
      "execution_count": null,
      "outputs": []
    },
    {
      "cell_type": "code",
      "source": [
        "#PCA(OLD)\n",
        "\n",
        "features = df.drop(columns=['id', 'Age','Sex_M'])\n",
        "pca = PCA(n_components=5)\n",
        "principal_components = pca.fit_transform(features)\n",
        "pca_df = pd.DataFrame(data=principal_components, columns=[f'PC{i+1}' for i in range(principal_components.shape[1])])\n",
        "pca_df['Age'] = df['Age'].values\n",
        "explained_variance = pca.explained_variance_ratio_\n",
        "print(f\"Explained variance ratio: {explained_variance}\")\n"
      ],
      "metadata": {
        "id": "xW0OM8lF4SzA",
        "colab": {
          "base_uri": "https://localhost:8080/"
        },
        "outputId": "b00e2771-66c9-4ae9-e8fd-5d7e42565177"
      },
      "execution_count": null,
      "outputs": [
        {
          "output_type": "stream",
          "name": "stdout",
          "text": [
            "Explained variance ratio: [9.85764841e-01 9.48801567e-03 2.37051783e-03 1.71274259e-03\n",
            " 5.86404419e-04]\n"
          ]
        }
      ]
    },
    {
      "cell_type": "code",
      "source": [
        "#PCA VISUALIZATION(OLD)\n",
        "\n",
        "plt.figure(figsize=(10, 5))\n",
        "plt.bar(range(1, len(explained_variance) + 1), explained_variance)\n",
        "plt.xlabel('Principal Component')\n",
        "plt.ylabel('Explained Variance Ratio')\n",
        "plt.title('Explained Variance by Principal Components')\n",
        "plt.show()\n"
      ],
      "metadata": {
        "id": "hfMgtw5Y4pIa"
      },
      "execution_count": null,
      "outputs": []
    },
    {
      "cell_type": "markdown",
      "source": [
        "We will use PC1 only since it captures 94% of the variance"
      ],
      "metadata": {
        "id": "xpUzIkmU5l3m"
      }
    },
    {
      "cell_type": "code",
      "source": [
        "#VISUALIZING THE RELATIONSHIP BETWEEN PC1 AND AGE USING A SCATTER PLOT"
      ],
      "metadata": {
        "id": "hWxqqZfC6y4I"
      },
      "execution_count": null,
      "outputs": []
    },
    {
      "cell_type": "code",
      "source": [
        "\n",
        "plt.figure(figsize=(10, 6))\n",
        "sns.scatterplot(x='PC4', y='Age', data=pca_df, alpha=0.5)\n",
        "plt.title('Scatter Plot of PC1 vs Age')\n",
        "plt.xlabel('Principal Component 1 (PC1)')\n",
        "plt.ylabel('Age')\n",
        "plt.grid(True)\n",
        "plt.show()\n"
      ],
      "metadata": {
        "id": "xaaRIBrN66dD",
        "collapsed": true
      },
      "execution_count": null,
      "outputs": []
    },
    {
      "cell_type": "markdown",
      "source": [
        "From the Scatter Plot it is clear that there is a relatively direct relationship between PC1 and Age."
      ],
      "metadata": {
        "id": "8wN70YI678Cv"
      }
    },
    {
      "cell_type": "markdown",
      "source": [
        "We will now use Ridge regularization\n"
      ],
      "metadata": {
        "id": "izy37DvaLyXU"
      }
    },
    {
      "cell_type": "code",
      "source": [
        "X =  features #pca_df[['PC1','PC2','PC3','PC4','PC5']]\n",
        "y = pca_df['Age']\n",
        "X_train, X_val, y_train, y_val = train_test_split(X, y, test_size=0.2, random_state=42)\n"
      ],
      "metadata": {
        "id": "P8t78t69LxDp"
      },
      "execution_count": null,
      "outputs": []
    },
    {
      "cell_type": "code",
      "source": [
        "#RIDGE\n",
        "\n",
        "ridge_param_grid = {'alpha': [0.001, 0.01, 0.1, 1, 10, 100, 1000]}\n",
        "ridge_grid = GridSearchCV(Ridge(), ridge_param_grid, cv=5, scoring='neg_mean_absolute_error', n_jobs=-1)\n",
        "ridge_grid.fit(X_train, y_train)\n",
        "\n",
        "best_ridge_alpha = ridge_grid.best_params_['alpha']\n",
        "print(\"Best Ridge Parameters:\",best_ridge_alpha)\n",
        "\n",
        "# PREDICTING WITH THE BEST MODEL\n",
        "y_pred_ridge_best = ridge_grid.best_estimator_.predict(X_val)\n",
        "mae_ridge_best = mean_absolute_error(y_val, y_pred_ridge_best)\n",
        "print(\"Ridge Mean Absolute Error with Best Parameters:\", mae_ridge_best)\n"
      ],
      "metadata": {
        "colab": {
          "base_uri": "https://localhost:8080/"
        },
        "id": "2pato69gB1K0",
        "outputId": "cc899595-fcb8-4aa1-d1c0-450283daf8ae"
      },
      "execution_count": null,
      "outputs": [
        {
          "output_type": "stream",
          "name": "stdout",
          "text": [
            "Best Ridge Parameters: 1\n",
            "Ridge Mean Absolute Error with Best Parameters: 1.4558299047313825\n"
          ]
        }
      ]
    },
    {
      "cell_type": "code",
      "source": [
        "#LASSO\n",
        "lasso_param_grid = {'alpha': [0.001, 0.01, 0.1, 1, 10, 100]}\n",
        "lasso_grid = GridSearchCV(Lasso(), lasso_param_grid, cv=5, scoring='neg_mean_absolute_error', n_jobs=-1)\n",
        "lasso_grid.fit(X_train, y_train)\n",
        "\n",
        "best_lasso_alpha = lasso_grid.best_params_['alpha']\n",
        "print(\"Best Lasso Parameters:\",best_lasso_alpha)\n",
        "\n",
        "# PREDICTING WITH THE BEST MODEL\n",
        "y_pred_lasso_best = lasso_grid.best_estimator_.predict(X_val)\n",
        "mae_lasso_best = mean_absolute_error(y_val, y_pred_lasso_best)\n",
        "print(\"Lasso Mean Absolute Error with Best Parameters:\", mae_lasso_best)"
      ],
      "metadata": {
        "colab": {
          "base_uri": "https://localhost:8080/"
        },
        "id": "6HKCqRRBB4-b",
        "outputId": "ce4af8bb-436c-4746-c900-e6b8d77cb8d1"
      },
      "execution_count": null,
      "outputs": [
        {
          "output_type": "stream",
          "name": "stdout",
          "text": [
            "Best Lasso Parameters: 0.001\n",
            "Lasso Mean Absolute Error with Best Parameters: 1.4555239184244892\n"
          ]
        }
      ]
    },
    {
      "cell_type": "code",
      "source": [
        "#ELASTIC NET\n",
        "elastic_net_param_grid = {'alpha': [0.001, 0.01, 0.1, 1, 10, 100],\n",
        "                           'l1_ratio': [0.1, 0.5, 0.9, 1.0]}\n",
        "elastic_net_grid = GridSearchCV(ElasticNet(), elastic_net_param_grid, cv=5, scoring='neg_mean_absolute_error', n_jobs=-1)\n",
        "elastic_net_grid.fit(X_train, y_train)\n",
        "\n",
        "best_elastic_net_alpha = elastic_net_grid.best_params_['alpha']\n",
        "best_elastic_net_l1_ratio = elastic_net_grid.best_params_['l1_ratio']\n",
        "\n",
        "print(\"Best Elastic Net Parameters:\", elastic_net_grid.best_params_)\n",
        "\n",
        "# PREDICTING WITH THE BEST MODEL\n",
        "y_pred_en_best = elastic_net_grid.best_estimator_.predict(X_val)\n",
        "mae_en_best = mean_absolute_error(y_val, y_pred_en_best)\n",
        "print(\"Elastic Net Mean Absolute Error with Best Parameters:\", mae_en_best)"
      ],
      "metadata": {
        "colab": {
          "base_uri": "https://localhost:8080/"
        },
        "id": "REX7Im4xB_eR",
        "outputId": "0a310ed6-1f5a-4fb0-a74b-c7c13afe202e"
      },
      "execution_count": null,
      "outputs": [
        {
          "output_type": "stream",
          "name": "stdout",
          "text": [
            "Best Elastic Net Parameters: {'alpha': 0.001, 'l1_ratio': 1.0}\n",
            "Elastic Net Mean Absolute Error with Best Parameters: 1.4555239184244892\n"
          ]
        }
      ]
    },
    {
      "cell_type": "markdown",
      "source": [
        "WE WILL NOW TRY USING POLYNOMIAL REGRESSION"
      ],
      "metadata": {
        "id": "DsCYJxpuIsNo"
      }
    },
    {
      "cell_type": "code",
      "source": [
        "degrees = range(1, 5)"
      ],
      "metadata": {
        "id": "6gpUvfZxOQdZ"
      },
      "execution_count": null,
      "outputs": []
    },
    {
      "cell_type": "code",
      "source": [
        "#POLYNOMIAL REGRESSION\n",
        "mae_list = []\n",
        "\n",
        "for degree in degrees:\n",
        "\n",
        "    poly = PolynomialFeatures(degree=degree)\n",
        "    X_train_poly = poly.fit_transform(X_train)\n",
        "    X_val_poly = poly.transform(X_val)\n",
        "\n",
        "    poly_reg_model = LinearRegression()\n",
        "    poly_reg_model.fit(X_train_poly, y_train)\n",
        "\n",
        "    y_pred_poly = poly_reg_model.predict(X_val_poly)\n",
        "\n",
        "    mae_poly = mean_absolute_error(y_val, y_pred_poly)\n",
        "    mae_list.append(mae_poly)\n",
        "    print(f\"Degree: {degree}, MAE: {mae_poly}\")\n",
        "\n",
        "best_degree = degrees[np.argmin(mae_list)]\n",
        "best_mae = min(mae_list)\n",
        "\n",
        "print(f\"Best degree: {best_degree}, with MAE: {best_mae}\")\n",
        "\n",
        "\n"
      ],
      "metadata": {
        "colab": {
          "base_uri": "https://localhost:8080/"
        },
        "id": "3d-n9OLO9ItN",
        "outputId": "1910e30f-b05e-4bb4-8e27-bc581035b937"
      },
      "execution_count": null,
      "outputs": [
        {
          "output_type": "stream",
          "name": "stdout",
          "text": [
            "Degree: 1, MAE: 1.4561177082682946\n",
            "Degree: 2, MAE: 1.4114037713522327\n",
            "Degree: 3, MAE: 1.405828786239214\n",
            "Degree: 4, MAE: 1.4624792258331187\n",
            "Degree: 5, MAE: 1.69641458374379\n",
            "Degree: 6, MAE: 4.2934810104434415\n"
          ]
        }
      ]
    },
    {
      "cell_type": "markdown",
      "source": [
        "Now we will try hybrid methods including both Polynomial Regression as well as Regularization Techniques\n"
      ],
      "metadata": {
        "id": "aEYX8pYdI4oW"
      }
    },
    {
      "cell_type": "code",
      "source": [
        "#POLY - RIDGE\n",
        "poly_ridge_mae_list = []\n",
        "for degree in degrees:\n",
        "\n",
        "      ridge_poly_model = make_pipeline(PolynomialFeatures(degree=degree),\n",
        "                                      Ridge(alpha=best_ridge_alpha))\n",
        "      ridge_poly_model.fit(X_train, y_train)\n",
        "\n",
        "      y_pred_ridge_poly = ridge_poly_model.predict(X_val)\n",
        "      mae_ridge_poly = mean_absolute_error(y_val, y_pred_ridge_poly)\n",
        "      poly_ridge_mae_list.append(mae_ridge_poly)\n",
        "\n",
        "      print(f\"Degree: {degree}, MAE: {mae_ridge_poly}\")\n",
        "\n",
        "best_degree = degrees[np.argmin(poly_ridge_mae_list)]\n",
        "best_mae = min(poly_ridge_mae_list)\n",
        "print(f\"Best degree: {best_degree}, with MAE: {best_mae}\")"
      ],
      "metadata": {
        "colab": {
          "base_uri": "https://localhost:8080/"
        },
        "id": "E42TiOi2H-tP",
        "outputId": "632a6cf3-30e9-417e-f311-974dc5161f9b"
      },
      "execution_count": null,
      "outputs": [
        {
          "output_type": "stream",
          "name": "stdout",
          "text": [
            "Degree: 1, MAE: 1.455829904731397\n",
            "Degree: 2, MAE: 1.4107694604028957\n",
            "Degree: 3, MAE: 1.3974639855018474\n",
            "Degree: 4, MAE: 1.4251190816204435\n",
            "Best degree: 3, with MAE: 1.3974639855018474\n"
          ]
        },
        {
          "output_type": "stream",
          "name": "stderr",
          "text": [
            "/usr/local/lib/python3.10/dist-packages/sklearn/linear_model/_ridge.py:216: LinAlgWarning: Ill-conditioned matrix (rcond=4.03426e-18): result may not be accurate.\n",
            "  return linalg.solve(A, Xy, assume_a=\"pos\", overwrite_a=True).T\n"
          ]
        }
      ]
    },
    {
      "cell_type": "code",
      "source": [
        "#POLY - LASSO\n",
        "poly_lasso_mae_list = []\n",
        "for degree in degrees:\n",
        "\n",
        "      lasso_poly_model = make_pipeline(PolynomialFeatures(degree=degree),\n",
        "                                      Lasso(alpha=best_lasso_alpha))\n",
        "      lasso_poly_model.fit(X_train, y_train)\n",
        "\n",
        "      y_pred_lasso_poly = lasso_poly_model.predict(X_val)\n",
        "      mae_lasso_poly = mean_absolute_error(y_val, y_pred_lasso_poly)\n",
        "      poly_lasso_mae_list.append(mae_lasso_poly)\n",
        "\n",
        "      print(f\"Degree: {degree}, MAE: {mae_lasso_poly}\")\n",
        "\n",
        "best_degree = degrees[np.argmin(poly_lasso_mae_list)]\n",
        "best_mae = min(poly_lasso_mae_list)\n",
        "print(f\"Best degree: {best_degree}, with MAE: {best_mae}\")\n"
      ],
      "metadata": {
        "colab": {
          "base_uri": "https://localhost:8080/"
        },
        "id": "wc9CLjJrJ4Ce",
        "outputId": "50c7e4e2-225d-41b4-dfc0-2b43320bc579"
      },
      "execution_count": null,
      "outputs": [
        {
          "output_type": "stream",
          "name": "stdout",
          "text": [
            "Degree: 1, MAE: 1.4555239184244892\n"
          ]
        },
        {
          "output_type": "stream",
          "name": "stderr",
          "text": [
            "/usr/local/lib/python3.10/dist-packages/sklearn/linear_model/_coordinate_descent.py:697: ConvergenceWarning: Objective did not converge. You might want to increase the number of iterations, check the scale of the features or consider increasing regularisation. Duality gap: 2.384e+04, tolerance: 1.231e+01\n",
            "  model = cd_fast.enet_coordinate_descent(\n"
          ]
        },
        {
          "output_type": "stream",
          "name": "stdout",
          "text": [
            "Degree: 2, MAE: 1.4129223593364801\n"
          ]
        },
        {
          "output_type": "stream",
          "name": "stderr",
          "text": [
            "/usr/local/lib/python3.10/dist-packages/sklearn/linear_model/_coordinate_descent.py:697: ConvergenceWarning: Objective did not converge. You might want to increase the number of iterations, check the scale of the features or consider increasing regularisation. Duality gap: 2.366e+04, tolerance: 1.231e+01\n",
            "  model = cd_fast.enet_coordinate_descent(\n"
          ]
        },
        {
          "output_type": "stream",
          "name": "stdout",
          "text": [
            "Degree: 3, MAE: 1.4089604894581536\n",
            "Degree: 4, MAE: 1.4075947657274015\n",
            "Best degree: 4, with MAE: 1.4075947657274015\n"
          ]
        },
        {
          "output_type": "stream",
          "name": "stderr",
          "text": [
            "/usr/local/lib/python3.10/dist-packages/sklearn/linear_model/_coordinate_descent.py:697: ConvergenceWarning: Objective did not converge. You might want to increase the number of iterations, check the scale of the features or consider increasing regularisation. Duality gap: 2.343e+04, tolerance: 1.231e+01\n",
            "  model = cd_fast.enet_coordinate_descent(\n"
          ]
        }
      ]
    },
    {
      "cell_type": "code",
      "source": [
        "#POLY - ELASTIC NET\n",
        "poly_en_mae_list = []\n",
        "for degree in degrees:\n",
        "\n",
        "      elastic_net_poly_model = make_pipeline(PolynomialFeatures(degree=degree),\n",
        "                                      ElasticNet(alpha=best_elastic_net_alpha, l1_ratio=best_elastic_net_l1_ratio))\n",
        "      elastic_net_poly_model.fit(X_train, y_train)\n",
        "\n",
        "      y_pred_en_poly = elastic_net_poly_model.predict(X_val)\n",
        "      mae_en_poly = mean_absolute_error(y_val, y_pred_en_poly)\n",
        "      poly_en_mae_list.append(mae_en_poly)\n",
        "\n",
        "      print(f\"Degree: {degree}, MAE: {mae_en_poly}\")\n",
        "\n",
        "best_degree = degrees[np.argmin(poly_en_mae_list)]\n",
        "best_mae = min(poly_en_mae_list)\n",
        "print(f\"Best degree: {best_degree}, with MAE: {best_mae}\")"
      ],
      "metadata": {
        "colab": {
          "base_uri": "https://localhost:8080/"
        },
        "id": "KCOvsZ1uKQHQ",
        "outputId": "c0c9c342-46f4-44dd-b055-ee978eedbca2"
      },
      "execution_count": null,
      "outputs": [
        {
          "output_type": "stream",
          "name": "stdout",
          "text": [
            "Degree: 1, MAE: 1.4555239184244892\n"
          ]
        },
        {
          "output_type": "stream",
          "name": "stderr",
          "text": [
            "/usr/local/lib/python3.10/dist-packages/sklearn/linear_model/_coordinate_descent.py:697: ConvergenceWarning: Objective did not converge. You might want to increase the number of iterations, check the scale of the features or consider increasing regularisation. Duality gap: 2.384e+04, tolerance: 1.231e+01\n",
            "  model = cd_fast.enet_coordinate_descent(\n"
          ]
        },
        {
          "output_type": "stream",
          "name": "stdout",
          "text": [
            "Degree: 2, MAE: 1.4129223593364801\n"
          ]
        },
        {
          "output_type": "stream",
          "name": "stderr",
          "text": [
            "/usr/local/lib/python3.10/dist-packages/sklearn/linear_model/_coordinate_descent.py:697: ConvergenceWarning: Objective did not converge. You might want to increase the number of iterations, check the scale of the features or consider increasing regularisation. Duality gap: 2.366e+04, tolerance: 1.231e+01\n",
            "  model = cd_fast.enet_coordinate_descent(\n"
          ]
        },
        {
          "output_type": "stream",
          "name": "stdout",
          "text": [
            "Degree: 3, MAE: 1.4089604894581536\n",
            "Degree: 4, MAE: 1.4075947657274015\n",
            "Best degree: 4, with MAE: 1.4075947657274015\n"
          ]
        },
        {
          "output_type": "stream",
          "name": "stderr",
          "text": [
            "/usr/local/lib/python3.10/dist-packages/sklearn/linear_model/_coordinate_descent.py:697: ConvergenceWarning: Objective did not converge. You might want to increase the number of iterations, check the scale of the features or consider increasing regularisation. Duality gap: 2.343e+04, tolerance: 1.231e+01\n",
            "  model = cd_fast.enet_coordinate_descent(\n"
          ]
        }
      ]
    },
    {
      "cell_type": "code",
      "source": [
        "#FUNCTION TO CREATE RESIDUAL PLOTS\n",
        "def plot_residuals(y_true, y_pred, model_name):\n",
        "    residuals = y_true - y_pred\n",
        "    plt.figure(figsize=(10, 6))\n",
        "    sns.scatterplot(x=y_pred, y=residuals, alpha=0.5)\n",
        "    plt.axhline(0, color='red', linestyle='--', lw=2)\n",
        "    plt.title(f'Residual Plot for {model_name}')\n",
        "    plt.xlabel('Predicted Values')\n",
        "    plt.ylabel('Residuals')\n",
        "    plt.grid()\n",
        "    plt.show()\n",
        "\n",
        "plot_residuals(y_val, y_pred_lasso_best, model_name='Lasso')\n",
        "\n",
        "plot_residuals(y_val, y_pred_ridge_best, model_name='Ridge')\n",
        "\n",
        "plot_residuals(y_val, y_pred_en_best, model_name='Elastic Net')\n"
      ],
      "metadata": {
        "id": "8h0VA-1arni6"
      },
      "execution_count": null,
      "outputs": []
    },
    {
      "cell_type": "code",
      "source": [
        "#VISUALIZING THE MODEL\n",
        "plt.figure(figsize=(10, 10))\n",
        "plt.scatter(y_val, y_pred, alpha=1)\n",
        "plt.plot([y_val.min(), y_val.max()], [y_val.min(), y_val.max()], 'k--', lw=2)\n",
        "plt.xlabel('Actual Age')\n",
        "plt.ylabel('Predicted Age')\n",
        "plt.title('Actual vs. Predicted Age')\n",
        "plt.show()"
      ],
      "metadata": {
        "id": "34Nq7kEhMfGm"
      },
      "execution_count": null,
      "outputs": []
    },
    {
      "cell_type": "markdown",
      "source": [
        "End of PCA(Train)"
      ],
      "metadata": {
        "id": "Gkv7x6LFixmb"
      }
    },
    {
      "cell_type": "markdown",
      "source": [
        "TESTINGGGGGGGGGGGGG\n"
      ],
      "metadata": {
        "id": "TPhveVGhS6CY"
      }
    }
  ]
}